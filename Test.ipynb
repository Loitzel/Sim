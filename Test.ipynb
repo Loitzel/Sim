{
 "cells": [
  {
   "cell_type": "code",
   "execution_count": 2,
   "metadata": {},
   "outputs": [],
   "source": [
    "import random\n",
    "from topics import Topics\n",
    "from belief import Belief\n",
    "from agent import Agent\n",
    "from message import Message\n",
    "from enviroment import Environment\n",
    "from graph import generate_agents_from_graph\n",
    "from decision_rule import AgreementWithMessageRule, DisagreementWithMessageRule, AdjustMessageRule"
   ]
  },
  {
   "cell_type": "code",
   "execution_count": 3,
   "metadata": {},
   "outputs": [],
   "source": [
    "num_agents = 20  # Número de agentes\n",
    "num_neighbors = 4  # Número de vecinos por agente\n",
    "probability = 0.2  # Probabilidad de reconexión en el grafo"
   ]
  },
  {
   "cell_type": "code",
   "execution_count": 4,
   "metadata": {},
   "outputs": [],
   "source": [
    "agents, graph = generate_agents_from_graph(num_agents, num_neighbors, probability)"
   ]
  },
  {
   "cell_type": "code",
   "execution_count": 5,
   "metadata": {},
   "outputs": [],
   "source": [
    "initial_beliefs = [\n",
    "    Belief(Topics.HEALTH_AND_WELLNESS.value, 2),\n",
    "    Belief(Topics.TECHNOLOGY_AND_SOCIETY.value, -1)\n",
    "]\n",
    "initial_message = Message(strength=5, beliefs=initial_beliefs, source=None, destination=None)"
   ]
  },
  {
   "cell_type": "code",
   "execution_count": 6,
   "metadata": {},
   "outputs": [],
   "source": [
    "initial_agent_indices = random.sample(range(num_agents), 3)  # Selecciona 3 agentes al azar\n",
    "initial_agents = [agents[i] for i in initial_agent_indices]"
   ]
  },
  {
   "cell_type": "code",
   "execution_count": 10,
   "metadata": {},
   "outputs": [
    {
     "ename": "TypeError",
     "evalue": "'NoneType' object is not callable",
     "output_type": "error",
     "traceback": [
      "\u001b[1;31m---------------------------------------------------------------------------\u001b[0m",
      "\u001b[1;31mTypeError\u001b[0m                                 Traceback (most recent call last)",
      "Cell \u001b[1;32mIn[10], line 2\u001b[0m\n\u001b[0;32m      1\u001b[0m environment \u001b[38;5;241m=\u001b[39m Environment()  \u001b[38;5;66;03m# Obtener la instancia del entorno (singleton)\u001b[39;00m\n\u001b[1;32m----> 2\u001b[0m \u001b[43menvironment\u001b[49m\u001b[38;5;241;43m.\u001b[39;49m\u001b[43mrun_simulation\u001b[49m\u001b[43m(\u001b[49m\u001b[43minitial_message\u001b[49m\u001b[43m,\u001b[49m\u001b[43m \u001b[49m\u001b[43minitial_agents\u001b[49m\u001b[43m)\u001b[49m\n",
      "File \u001b[1;32mc:\\Uni\\4to\\Sim\\enviroment.py:28\u001b[0m, in \u001b[0;36mEnvironment.run_simulation\u001b[1;34m(self, initial_message, initial_agents)\u001b[0m\n\u001b[0;32m     25\u001b[0m messages \u001b[38;5;241m=\u001b[39m []\n\u001b[0;32m     27\u001b[0m \u001b[38;5;28;01mfor\u001b[39;00m agent \u001b[38;5;129;01min\u001b[39;00m initial_agents:\n\u001b[1;32m---> 28\u001b[0m     new_message \u001b[38;5;241m=\u001b[39m \u001b[43minitial_message\u001b[49m\u001b[38;5;241;43m.\u001b[39;49m\u001b[43mclone\u001b[49m\u001b[43m(\u001b[49m\u001b[43m)\u001b[49m\u001b[38;5;241;43m.\u001b[39;49m\u001b[43mdestination\u001b[49m\u001b[43m(\u001b[49m\u001b[43magent\u001b[49m\u001b[43m)\u001b[49m\n\u001b[0;32m     29\u001b[0m     messages\u001b[38;5;241m.\u001b[39mappend(new_message)\n\u001b[0;32m     31\u001b[0m \u001b[38;5;28;01mwhile\u001b[39;00m messages:\n",
      "\u001b[1;31mTypeError\u001b[0m: 'NoneType' object is not callable"
     ]
    }
   ],
   "source": [
    "environment = Environment()  # Obtener la instancia del entorno (singleton)\n",
    "environment.run_simulation(initial_message, initial_agents)"
   ]
  }
 ],
 "metadata": {
  "kernelspec": {
   "display_name": "Python 3",
   "language": "python",
   "name": "python3"
  },
  "language_info": {
   "codemirror_mode": {
    "name": "ipython",
    "version": 3
   },
   "file_extension": ".py",
   "mimetype": "text/x-python",
   "name": "python",
   "nbconvert_exporter": "python",
   "pygments_lexer": "ipython3",
   "version": "3.10.4"
  }
 },
 "nbformat": 4,
 "nbformat_minor": 2
}
